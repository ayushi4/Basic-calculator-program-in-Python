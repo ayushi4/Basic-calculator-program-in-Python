{
 "cells": [
  {
   "cell_type": "code",
   "execution_count": 2,
   "metadata": {},
   "outputs": [],
   "source": [
    "def add(num1,num2):\n",
    "    return num1+num2\n",
    "def sub(num1,num2):\n",
    "    return num1-num2\n",
    "def mul(num1,num2):\n",
    "    return num1*num2\n",
    "def div(num1,num2):\n",
    "    return num1/num2"
   ]
  },
  {
   "cell_type": "code",
   "execution_count": 3,
   "metadata": {},
   "outputs": [
    {
     "name": "stdout",
     "output_type": "stream",
     "text": [
      "Enter the operation to perform\n",
      "1. Addition\n",
      "2. Subtraction\n",
      "3. Multiplication\n",
      "4. Division\n",
      "Enter the operation no:3\n"
     ]
    }
   ],
   "source": [
    "print(\"Enter the operation to perform\\n1. Addition\\n2. Subtraction\\n3. Multiplication\\n4. Division\")\n",
    "\n",
    "s=int(input(\"Enter the operation no:\"))"
   ]
  },
  {
   "cell_type": "code",
   "execution_count": 4,
   "metadata": {},
   "outputs": [
    {
     "name": "stdout",
     "output_type": "stream",
     "text": [
      "operator 1: 5\n",
      "operator 2: 9\n"
     ]
    }
   ],
   "source": [
    "a = int(input(\"operator 1: \"))\n",
    "b = int(input(\"operator 2: \"))"
   ]
  },
  {
   "cell_type": "code",
   "execution_count": 5,
   "metadata": {},
   "outputs": [
    {
     "name": "stdout",
     "output_type": "stream",
     "text": [
      "Multiplication: 45\n"
     ]
    }
   ],
   "source": [
    "if(s==1):\n",
    "    print(\"Addition:\",add(a,b))\n",
    "elif(s==2):\n",
    "    print(\"Subtraction:\",sub(a,b))\n",
    "elif(s==3):\n",
    "    print(\"Multiplication:\",mul(a,b))\n",
    "elif(s==4):\n",
    "    print(\"Division:\",div(a,b))"
   ]
  }
 ],
 "metadata": {
  "kernelspec": {
   "display_name": "Python 3",
   "language": "python",
   "name": "python3"
  },
  "language_info": {
   "codemirror_mode": {
    "name": "ipython",
    "version": 3
   },
   "file_extension": ".py",
   "mimetype": "text/x-python",
   "name": "python",
   "nbconvert_exporter": "python",
   "pygments_lexer": "ipython3",
   "version": "3.7.0"
  }
 },
 "nbformat": 4,
 "nbformat_minor": 2
}
